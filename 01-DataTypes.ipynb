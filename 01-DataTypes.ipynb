{
 "cells": [
  {
   "cell_type": "code",
   "execution_count": 1,
   "id": "4be616db-c452-4848-8607-52a6782d9c3b",
   "metadata": {
    "panel-layout": {
     "height": 0,
     "visible": true,
     "width": 100
    }
   },
   "outputs": [
    {
     "name": "stdout",
     "output_type": "stream",
     "text": [
      "Hello World!\n"
     ]
    }
   ],
   "source": [
    "print('Hello World!')"
   ]
  },
  {
   "cell_type": "code",
   "execution_count": 2,
   "id": "8f0f76a5-75d6-4fb5-8d83-ea63d7ad3122",
   "metadata": {
    "panel-layout": {
     "height": 0,
     "visible": true,
     "width": 100
    }
   },
   "outputs": [
    {
     "name": "stdout",
     "output_type": "stream",
     "text": [
      "11\n"
     ]
    }
   ],
   "source": [
    "print(6 + 5)"
   ]
  },
  {
   "cell_type": "code",
   "execution_count": 3,
   "id": "82b72aa1-9ec6-4feb-b4c1-cb4a1910ed1e",
   "metadata": {
    "panel-layout": {
     "height": 0,
     "visible": true,
     "width": 100
    }
   },
   "outputs": [
    {
     "name": "stdout",
     "output_type": "stream",
     "text": [
      "1\n"
     ]
    }
   ],
   "source": [
    "print(6 - 5)"
   ]
  },
  {
   "cell_type": "code",
   "execution_count": 4,
   "id": "58d4315e-5d13-427c-83d8-bf3bf9dfa9c6",
   "metadata": {
    "panel-layout": {
     "height": 0,
     "visible": true,
     "width": 100
    }
   },
   "outputs": [
    {
     "name": "stdout",
     "output_type": "stream",
     "text": [
      "6 - 5\n"
     ]
    }
   ],
   "source": [
    "print('6 - 5')"
   ]
  },
  {
   "cell_type": "markdown",
   "id": "ebf928ec-574a-4970-b387-475a663cfabe",
   "metadata": {
    "panel-layout": {
     "height": 10,
     "visible": true,
     "width": 100
    }
   },
   "source": [
    "# Data types\n",
    "- Integers\n",
    "- Float\n",
    "- Strings\n",
    "- Bool\n",
    "- None"
   ]
  },
  {
   "cell_type": "markdown",
   "id": "a53384bc-fced-4a06-b2d9-a80f65b4e5ee",
   "metadata": {},
   "source": []
  },
  {
   "cell_type": "code",
   "execution_count": 5,
   "id": "cc48f496-67b9-4d79-867f-086947011ed6",
   "metadata": {},
   "outputs": [],
   "source": [
    "### Integers"
   ]
  },
  {
   "cell_type": "code",
   "execution_count": 6,
   "id": "6e966e03-d335-464b-8627-fe7fd08d71dd",
   "metadata": {},
   "outputs": [
    {
     "data": {
      "text/plain": [
       "int"
      ]
     },
     "execution_count": 6,
     "metadata": {},
     "output_type": "execute_result"
    }
   ],
   "source": [
    "type(1234565432)"
   ]
  },
  {
   "cell_type": "code",
   "execution_count": 7,
   "id": "c54724c1-bd3c-4fa3-bb22-311bcef48f9c",
   "metadata": {},
   "outputs": [
    {
     "name": "stdout",
     "output_type": "stream",
     "text": [
      "<class 'int'>\n"
     ]
    }
   ],
   "source": [
    "print(type(123467654))"
   ]
  },
  {
   "cell_type": "code",
   "execution_count": 8,
   "id": "4fc78e2d-e2db-40ff-87a1-bec9c52cbfdb",
   "metadata": {},
   "outputs": [],
   "source": [
    "### Float"
   ]
  },
  {
   "cell_type": "code",
   "execution_count": 9,
   "id": "4af9f073-66d2-4dee-b3e3-5adfc9edccd0",
   "metadata": {},
   "outputs": [
    {
     "name": "stdout",
     "output_type": "stream",
     "text": [
      "<class 'float'>\n"
     ]
    }
   ],
   "source": [
    "print(type(-12345.234))"
   ]
  },
  {
   "cell_type": "code",
   "execution_count": 10,
   "id": "e9918dbd-8b87-4799-a7e1-d51afa4849cb",
   "metadata": {},
   "outputs": [
    {
     "name": "stdout",
     "output_type": "stream",
     "text": [
      "<class 'int'>\n",
      "<class 'float'>\n"
     ]
    }
   ],
   "source": [
    "print(type(2))\n",
    "print(type(2.))"
   ]
  },
  {
   "cell_type": "markdown",
   "id": "6e35294a-9082-4cda-98e5-89d86970ff57",
   "metadata": {},
   "source": [
    "### Strings\n",
    "- Single quotes\n",
    "- Double quotes\n",
    "- Single triple quotes\n",
    "- Double triple quotes"
   ]
  },
  {
   "cell_type": "code",
   "execution_count": 11,
   "id": "f2f6abf1-f9de-4ff5-bc2e-fbd050a7899b",
   "metadata": {},
   "outputs": [
    {
     "name": "stdout",
     "output_type": "stream",
     "text": [
      "<class 'str'>\n"
     ]
    }
   ],
   "source": [
    "print(type('Hello'))"
   ]
  },
  {
   "cell_type": "code",
   "execution_count": 12,
   "id": "d3a9702a-bea8-45c4-a096-795409127c0c",
   "metadata": {},
   "outputs": [
    {
     "name": "stdout",
     "output_type": "stream",
     "text": [
      "<class 'str'>\n"
     ]
    }
   ],
   "source": [
    "print(type('''Hello'''))"
   ]
  },
  {
   "cell_type": "code",
   "execution_count": 13,
   "id": "1c639cd9-3084-47f3-9f29-31e468d45117",
   "metadata": {},
   "outputs": [
    {
     "name": "stdout",
     "output_type": "stream",
     "text": [
      "<class 'str'>\n"
     ]
    }
   ],
   "source": [
    "print(type(\"Double quotes\"))"
   ]
  },
  {
   "cell_type": "code",
   "execution_count": 14,
   "id": "f6b2b1a1-95bb-4cfe-9b33-b66b8769458b",
   "metadata": {},
   "outputs": [
    {
     "name": "stdout",
     "output_type": "stream",
     "text": [
      "Hello\n"
     ]
    }
   ],
   "source": [
    "print(\"\"\"Hello\"\"\")"
   ]
  },
  {
   "cell_type": "code",
   "execution_count": 15,
   "id": "e760a0e4-adfb-4486-b557-087e3f924981",
   "metadata": {},
   "outputs": [
    {
     "name": "stdout",
     "output_type": "stream",
     "text": [
      " I am \n",
      "Awesom\n",
      "No one can change me\n"
     ]
    }
   ],
   "source": [
    "print(''' I am \n",
    "Awesom\n",
    "No one can change me''')"
   ]
  },
  {
   "cell_type": "markdown",
   "id": "692349d0-7711-4791-b45e-a9fb3130a6be",
   "metadata": {},
   "source": [
    "### Boolean\n",
    "- True\n",
    "- False"
   ]
  },
  {
   "cell_type": "code",
   "execution_count": 16,
   "id": "8cb2de3b-75a5-4490-975f-f28bf6f750e3",
   "metadata": {},
   "outputs": [
    {
     "data": {
      "text/plain": [
       "bool"
      ]
     },
     "execution_count": 16,
     "metadata": {},
     "output_type": "execute_result"
    }
   ],
   "source": [
    "type(True)\n",
    "type(False)"
   ]
  },
  {
   "cell_type": "code",
   "execution_count": 17,
   "id": "6a55c63b-db00-432f-bbd0-8f695d3073b6",
   "metadata": {},
   "outputs": [
    {
     "data": {
      "text/plain": [
       "True"
      ]
     },
     "execution_count": 17,
     "metadata": {},
     "output_type": "execute_result"
    }
   ],
   "source": [
    "2 == 2"
   ]
  },
  {
   "cell_type": "code",
   "execution_count": 18,
   "id": "ce5261ac-e173-415c-9e54-4f954cd2cc1d",
   "metadata": {},
   "outputs": [
    {
     "data": {
      "text/plain": [
       "False"
      ]
     },
     "execution_count": 18,
     "metadata": {},
     "output_type": "execute_result"
    }
   ],
   "source": [
    "3 == 2"
   ]
  },
  {
   "cell_type": "code",
   "execution_count": 19,
   "id": "c3b9528f-c226-42a8-9355-e7b8aaa111d5",
   "metadata": {},
   "outputs": [],
   "source": [
    "### None Data types"
   ]
  },
  {
   "cell_type": "code",
   "execution_count": 20,
   "id": "4fd23bc0-944a-4b82-ac1c-6963ec6f2679",
   "metadata": {},
   "outputs": [
    {
     "data": {
      "text/plain": [
       "NoneType"
      ]
     },
     "execution_count": 20,
     "metadata": {},
     "output_type": "execute_result"
    }
   ],
   "source": [
    "type(None)"
   ]
  },
  {
   "cell_type": "code",
   "execution_count": null,
   "id": "b346ffef-185f-41bd-ae1d-ac7200e981bf",
   "metadata": {},
   "outputs": [],
   "source": []
  },
  {
   "cell_type": "markdown",
   "id": "3118c812-0821-4f6c-ab0b-3603a07d9095",
   "metadata": {},
   "source": [
    "# Variables\n",
    "- Name must start from Alphabet(Small or caps) or underscore(_)\n",
    "- They are case sensitive, it can differentiate between small and CAPS\n",
    "- Name should not start with number\n",
    "- It can be alphanumeric as well"
   ]
  },
  {
   "cell_type": "code",
   "execution_count": 21,
   "id": "c7e18140-ce22-4670-b814-eeafecad7ddc",
   "metadata": {},
   "outputs": [
    {
     "name": "stdout",
     "output_type": "stream",
     "text": [
      "11\n"
     ]
    }
   ],
   "source": [
    "x = 5\n",
    "y = 6\n",
    "print(x + y)"
   ]
  },
  {
   "cell_type": "code",
   "execution_count": 22,
   "id": "75b7a8b7-914c-4603-8a76-6e9ab3a9ab9e",
   "metadata": {},
   "outputs": [
    {
     "name": "stdout",
     "output_type": "stream",
     "text": [
      "4\n"
     ]
    }
   ],
   "source": [
    "_1 = 4\n",
    "print(_1)"
   ]
  },
  {
   "cell_type": "code",
   "execution_count": 23,
   "id": "ba71e0ec-b18a-4f7f-857a-75b544b94c3a",
   "metadata": {},
   "outputs": [
    {
     "name": "stdout",
     "output_type": "stream",
     "text": [
      "180\n"
     ]
    }
   ],
   "source": [
    "num1 = 90\n",
    "num2 = 90\n",
    "print(num1 + num2)"
   ]
  },
  {
   "cell_type": "code",
   "execution_count": 24,
   "id": "ebe77f2f-f28c-40f6-8541-d28b750e25f1",
   "metadata": {},
   "outputs": [
    {
     "name": "stdout",
     "output_type": "stream",
     "text": [
      "Anil\n"
     ]
    }
   ],
   "source": [
    "name = \"Anil\"\n",
    "print(name)"
   ]
  },
  {
   "cell_type": "code",
   "execution_count": 25,
   "id": "4531b060-64ac-4009-922f-e399cf77a356",
   "metadata": {},
   "outputs": [
    {
     "name": "stdout",
     "output_type": "stream",
     "text": [
      "3\n"
     ]
    }
   ],
   "source": [
    "x = 1\n",
    "x = 2\n",
    "x = 3\n",
    "print(x)"
   ]
  },
  {
   "cell_type": "code",
   "execution_count": null,
   "id": "33659397-524a-44c4-96d4-a0bcc4ef37ea",
   "metadata": {},
   "outputs": [],
   "source": []
  },
  {
   "cell_type": "markdown",
   "id": "fb744c8f-a799-46f6-a00a-14e09a392bf3",
   "metadata": {},
   "source": [
    "# Input function"
   ]
  },
  {
   "cell_type": "code",
   "execution_count": 26,
   "id": "36bfb0ed-f4d5-4b36-a48b-5828b604e6cf",
   "metadata": {},
   "outputs": [
    {
     "name": "stdin",
     "output_type": "stream",
     "text": [
      " 99\n"
     ]
    }
   ],
   "source": [
    "product = input()"
   ]
  },
  {
   "cell_type": "code",
   "execution_count": 27,
   "id": "9dcdeb41-9d2c-4a10-adac-4895977150ce",
   "metadata": {},
   "outputs": [
    {
     "name": "stdout",
     "output_type": "stream",
     "text": [
      "99\n"
     ]
    }
   ],
   "source": [
    "print(product)"
   ]
  },
  {
   "cell_type": "code",
   "execution_count": 28,
   "id": "d6ab343f-c493-41ae-8e94-9884a5e69831",
   "metadata": {},
   "outputs": [
    {
     "data": {
      "text/plain": [
       "str"
      ]
     },
     "execution_count": 28,
     "metadata": {},
     "output_type": "execute_result"
    }
   ],
   "source": [
    "type(product)"
   ]
  },
  {
   "cell_type": "code",
   "execution_count": 29,
   "id": "9594b501-db2c-4a56-b3d7-9f62a519d73f",
   "metadata": {},
   "outputs": [
    {
     "name": "stdin",
     "output_type": "stream",
     "text": [
      " 99\n",
      " 99\n"
     ]
    }
   ],
   "source": [
    "num3 = int(input())\n",
    "num4 = int(input())"
   ]
  },
  {
   "cell_type": "code",
   "execution_count": 30,
   "id": "ff14758a-69db-467d-abd4-7783d29e727c",
   "metadata": {},
   "outputs": [
    {
     "name": "stdout",
     "output_type": "stream",
     "text": [
      "198\n"
     ]
    }
   ],
   "source": [
    "total = num3 + num4\n",
    "print(total)"
   ]
  },
  {
   "cell_type": "code",
   "execution_count": null,
   "id": "14f93fb4-bf86-4178-9b44-4a00077b2c61",
   "metadata": {},
   "outputs": [],
   "source": []
  }
 ],
 "metadata": {
  "kernelspec": {
   "display_name": "Python 3 (ipykernel)",
   "language": "python",
   "name": "python3"
  },
  "language_info": {
   "codemirror_mode": {
    "name": "ipython",
    "version": 3
   },
   "file_extension": ".py",
   "mimetype": "text/x-python",
   "name": "python",
   "nbconvert_exporter": "python",
   "pygments_lexer": "ipython3",
   "version": "3.12.7"
  },
  "panel-cell-order": [
   "4be616db-c452-4848-8607-52a6782d9c3b",
   "8f0f76a5-75d6-4fb5-8d83-ea63d7ad3122",
   "82b72aa1-9ec6-4feb-b4c1-cb4a1910ed1e",
   "58d4315e-5d13-427c-83d8-bf3bf9dfa9c6",
   "ebf928ec-574a-4970-b387-475a663cfabe"
  ]
 },
 "nbformat": 4,
 "nbformat_minor": 5
}
