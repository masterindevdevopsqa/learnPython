{
 "cells": [
  {
   "cell_type": "markdown",
   "id": "16398664-92d2-4292-8678-f7ceccd76f96",
   "metadata": {},
   "source": [
    "# Operators\n",
    "- Arithmetic\n",
    "- Comparison\n",
    "- Assignment\n",
    "- Operators precedence\n",
    "- Logical"
   ]
  },
  {
   "cell_type": "markdown",
   "id": "e3afa549-3e37-4301-ac10-9ad7c8658987",
   "metadata": {},
   "source": [
    "### Arithmetic Operators\n",
    "- Addition\n",
    "- Subtraction\n",
    "- Multiplication\n",
    "- Division\n",
    "- Mod(%)\n",
    "- Floor division(//)\n",
    "- To the power(**)"
   ]
  },
  {
   "cell_type": "code",
   "execution_count": null,
   "id": "18d1756a-52d9-4b18-9a4a-3798d7e30338",
   "metadata": {},
   "outputs": [],
   "source": []
  },
  {
   "cell_type": "code",
   "execution_count": 1,
   "id": "55c4c8af-fe2f-4492-8cc9-f273d9b55355",
   "metadata": {},
   "outputs": [
    {
     "data": {
      "text/plain": [
       "100"
      ]
     },
     "execution_count": 1,
     "metadata": {},
     "output_type": "execute_result"
    }
   ],
   "source": [
    "x = 90\n",
    "y = 10\n",
    "x + y"
   ]
  },
  {
   "cell_type": "code",
   "execution_count": 2,
   "id": "76d32694-21ef-4eee-a08e-4c396dfa3b8f",
   "metadata": {},
   "outputs": [
    {
     "name": "stdout",
     "output_type": "stream",
     "text": [
      "5.0\n"
     ]
    }
   ],
   "source": [
    "print(2.5+2.5)"
   ]
  },
  {
   "cell_type": "code",
   "execution_count": 3,
   "id": "08643fbd-7c77-4c00-a673-6e8eeb4d556c",
   "metadata": {},
   "outputs": [
    {
     "name": "stdout",
     "output_type": "stream",
     "text": [
      "6\n"
     ]
    }
   ],
   "source": [
    "print(2+2+2)"
   ]
  },
  {
   "cell_type": "code",
   "execution_count": 4,
   "id": "d8f4db4b-e80b-498c-84d8-96e9ac92cda4",
   "metadata": {},
   "outputs": [
    {
     "name": "stdout",
     "output_type": "stream",
     "text": [
      "aaa\n"
     ]
    }
   ],
   "source": [
    "print('a' + 'a' + 'a')"
   ]
  },
  {
   "cell_type": "code",
   "execution_count": 5,
   "id": "50669314-c9b6-46c7-906a-82ee4e8af78e",
   "metadata": {},
   "outputs": [
    {
     "data": {
      "text/plain": [
       "900"
      ]
     },
     "execution_count": 5,
     "metadata": {},
     "output_type": "execute_result"
    }
   ],
   "source": [
    "x*y"
   ]
  },
  {
   "cell_type": "code",
   "execution_count": 6,
   "id": "0760670c-6cb6-4113-9a39-2c78637841dc",
   "metadata": {},
   "outputs": [
    {
     "name": "stdout",
     "output_type": "stream",
     "text": [
      "aaa\n"
     ]
    }
   ],
   "source": [
    "print('a'*3)"
   ]
  },
  {
   "cell_type": "code",
   "execution_count": 7,
   "id": "e86b4fbf-b022-4844-85b6-7b989d3e1152",
   "metadata": {},
   "outputs": [
    {
     "name": "stdout",
     "output_type": "stream",
     "text": [
      "4.0\n"
     ]
    }
   ],
   "source": [
    "print(10/2.5)"
   ]
  },
  {
   "cell_type": "code",
   "execution_count": 8,
   "id": "efb22d14-b240-45c9-8761-e2e4e13fc151",
   "metadata": {},
   "outputs": [
    {
     "data": {
      "text/plain": [
       "1.0"
      ]
     },
     "execution_count": 8,
     "metadata": {},
     "output_type": "execute_result"
    }
   ],
   "source": [
    "10/10"
   ]
  },
  {
   "cell_type": "code",
   "execution_count": 9,
   "id": "a47b9673-d03c-4587-8704-5086ead39c6b",
   "metadata": {},
   "outputs": [
    {
     "data": {
      "text/plain": [
       "100"
      ]
     },
     "execution_count": 9,
     "metadata": {},
     "output_type": "execute_result"
    }
   ],
   "source": [
    "10**2"
   ]
  },
  {
   "cell_type": "code",
   "execution_count": 10,
   "id": "6990a5df-68d3-4f1d-907a-0813a71dbefa",
   "metadata": {},
   "outputs": [],
   "source": [
    "# Floor of the number is always an integer"
   ]
  },
  {
   "cell_type": "code",
   "execution_count": 11,
   "id": "69da6673-b7d8-43b9-a16f-1885145bf7f5",
   "metadata": {},
   "outputs": [
    {
     "name": "stdout",
     "output_type": "stream",
     "text": [
      "3\n"
     ]
    }
   ],
   "source": [
    "print(10//3)"
   ]
  },
  {
   "cell_type": "code",
   "execution_count": 12,
   "id": "271223e6-6666-4fa5-9779-19988bf27b12",
   "metadata": {},
   "outputs": [
    {
     "name": "stdout",
     "output_type": "stream",
     "text": [
      "3.3333333333333335\n"
     ]
    }
   ],
   "source": [
    "print(10/3)"
   ]
  },
  {
   "cell_type": "code",
   "execution_count": null,
   "id": "169c028b-05ca-48f8-b67d-2b2c983cb1b9",
   "metadata": {},
   "outputs": [],
   "source": []
  }
 ],
 "metadata": {
  "kernelspec": {
   "display_name": "Python 3 (ipykernel)",
   "language": "python",
   "name": "python3"
  },
  "language_info": {
   "codemirror_mode": {
    "name": "ipython",
    "version": 3
   },
   "file_extension": ".py",
   "mimetype": "text/x-python",
   "name": "python",
   "nbconvert_exporter": "python",
   "pygments_lexer": "ipython3",
   "version": "3.12.7"
  }
 },
 "nbformat": 4,
 "nbformat_minor": 5
}
